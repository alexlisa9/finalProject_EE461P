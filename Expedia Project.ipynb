{
 "cells": [
  {
   "cell_type": "markdown",
   "metadata": {},
   "source": [
    "# EE461P Term Project: Predicting Hotel Bookings on Expedia\n",
    "\n",
    "### Group Members\n",
    "1. Zander Tedjo (zbt86)\n",
    "2. Alex Li\n",
    "3. Shiv Lalapet\n",
    "4. James Lu"
   ]
  },
  {
   "cell_type": "markdown",
   "metadata": {},
   "source": [
    "## Preprocessing"
   ]
  },
  {
   "cell_type": "code",
   "execution_count": 1,
   "metadata": {},
   "outputs": [],
   "source": [
    "import pandas as pd\n",
    "import numpy as np\n",
    "import matplotlib.pyplot as plt\n",
    "%matplotlib inline\n",
    "\n",
    "from sklearn.model_selection import train_test_split\n",
    "\n",
    "#https://www.kaggle.com/c/expedia-hotel-recommendations\n"
   ]
  },
  {
   "cell_type": "code",
   "execution_count": 2,
   "metadata": {},
   "outputs": [
    {
     "name": "stdout",
     "output_type": "stream",
     "text": [
      "             date_time  site_name  posa_continent  user_location_country  \\\n",
      "0  2014-08-11 07:46:59          2               3                     66   \n",
      "1  2014-08-11 08:22:12          2               3                     66   \n",
      "2  2014-08-11 08:24:33          2               3                     66   \n",
      "3  2014-08-09 18:05:16          2               3                     66   \n",
      "4  2014-08-09 18:08:18          2               3                     66   \n",
      "\n",
      "   user_location_region  user_location_city  orig_destination_distance  \\\n",
      "0                   348               48862                  2234.2641   \n",
      "1                   348               48862                  2234.2641   \n",
      "2                   348               48862                  2234.2641   \n",
      "3                   442               35390                   913.1932   \n",
      "4                   442               35390                   913.6259   \n",
      "\n",
      "   user_id  is_mobile  is_package  ...  srch_children_cnt srch_rm_cnt  \\\n",
      "0       12          0           1  ...                  0           1   \n",
      "1       12          0           1  ...                  0           1   \n",
      "2       12          0           0  ...                  0           1   \n",
      "3       93          0           0  ...                  0           1   \n",
      "4       93          0           0  ...                  0           1   \n",
      "\n",
      "  srch_destination_id  srch_destination_type_id  is_booking  cnt  \\\n",
      "0                8250                         1           0    3   \n",
      "1                8250                         1           1    1   \n",
      "2                8250                         1           0    1   \n",
      "3               14984                         1           0    1   \n",
      "4               14984                         1           0    1   \n",
      "\n",
      "   hotel_continent  hotel_country  hotel_market  hotel_cluster  \n",
      "0                2             50           628              1  \n",
      "1                2             50           628              1  \n",
      "2                2             50           628              1  \n",
      "3                2             50          1457             80  \n",
      "4                2             50          1457             21  \n",
      "\n",
      "[5 rows x 24 columns]\n"
     ]
    }
   ],
   "source": [
    "# Import original raw data\n",
    "df_raw = pd.read_csv('expedia.csv')\n",
    "print(df_raw.shape)\n",
    "#print(df_raw.head())\n"
   ]
  },
  {
   "cell_type": "code",
   "execution_count": 14,
   "metadata": {},
   "outputs": [
    {
     "name": "stdout",
     "output_type": "stream",
     "text": [
      "(24117894, 24)\n"
     ]
    }
   ],
   "source": [
    "# Remove rows with missing values\n",
    "df_clean = df_raw.dropna(axis=0, how='any', thresh=None, subset=None, inplace=False)\n",
    "print(df_clean.shape)"
   ]
  },
  {
   "cell_type": "code",
   "execution_count": 15,
   "metadata": {},
   "outputs": [],
   "source": [
    "#df_clean.to_csv('expedia_clean.csv', index=False)"
   ]
  },
  {
   "cell_type": "code",
   "execution_count": 53,
   "metadata": {},
   "outputs": [
    {
     "name": "stdout",
     "output_type": "stream",
     "text": [
      "(100000, 24)\n"
     ]
    }
   ],
   "source": [
    "# Resample randomly\n",
    "from sklearn.utils import resample\n",
    "\n",
    "size = 100000\n",
    "df_resampled_random = resample(df_clean, replace=False, n_samples=size, random_state=42)    \n",
    "\n",
    "print(df_resampled_random.shape)\n"
   ]
  },
  {
   "cell_type": "code",
   "execution_count": 54,
   "metadata": {},
   "outputs": [],
   "source": [
    "df_resampled_random.to_csv('expedia_resampled_random.csv', index=False)"
   ]
  },
  {
   "cell_type": "code",
   "execution_count": 55,
   "metadata": {},
   "outputs": [
    {
     "data": {
      "text/plain": [
       "Text(0.5, 0, 'Hotel cluster')"
      ]
     },
     "execution_count": 55,
     "metadata": {},
     "output_type": "execute_result"
    },
    {
     "data": {
      "image/png": "[encoded data removed]",
      "text/plain": [
       "<Figure size 432x288 with 1 Axes>"
      ]
     },
     "metadata": {
      "needs_background": "light"
     },
     "output_type": "display_data"
    }
   ],
   "source": [
    "plt.hist(df_resampled_random['hotel_cluster'], bins=30)\n",
    "plt.ylabel('Count')\n",
    "plt.xlabel('Hotel cluster')"
   ]
  },
  {
   "cell_type": "code",
   "execution_count": 56,
   "metadata": {},
   "outputs": [
    {
     "name": "stdout",
     "output_type": "stream",
     "text": [
      "(100000, 24)\n"
     ]
    }
   ],
   "source": [
    "# Resample for equal class distributions\n",
    "from sklearn.utils import resample\n",
    "\n",
    "df_resampled_equal = pd.DataFrame()\n",
    "class_size = 1000\n",
    "classes = data_clean['hotel_cluster'].unique()\n",
    "\n",
    "for c in classes:\n",
    "    class_data = df_clean[df_clean.hotel_cluster == c]\n",
    "    class_data_resampled = resample(class_data, replace=False, n_samples=class_size, random_state=42)    \n",
    "    df_resampled_equal = pd.concat([df_resampled_equal, class_data_resampled])\n",
    "\n",
    "print(df_resampled_equal.shape)"
   ]
  },
  {
   "cell_type": "code",
   "execution_count": 57,
   "metadata": {},
   "outputs": [],
   "source": [
    "df_resampled_equal.to_csv('expedia_resampled_equal.csv', index=False)"
   ]
  },
  {
   "cell_type": "code",
   "execution_count": 88,
   "metadata": {},
   "outputs": [
    {
     "name": "stdout",
     "output_type": "stream",
     "text": [
      "(100000, 20)\n",
      "Index(['site_name', 'posa_continent', 'user_location_country',\n",
      "       'user_location_region', 'user_location_city',\n",
      "       'orig_destination_distance', 'is_mobile', 'is_package', 'channel',\n",
      "       'srch_adults_cnt', 'srch_children_cnt', 'srch_rm_cnt',\n",
      "       'srch_destination_id', 'srch_destination_type_id', 'is_booking', 'cnt',\n",
      "       'hotel_continent', 'hotel_country', 'hotel_market', 'hotel_cluster'],\n",
      "      dtype='object')\n"
     ]
    }
   ],
   "source": [
    "# Drop unnecessary features\n",
    "\n",
    "#df_dropped = df_resampled_random.copy()\n",
    "df_dropped = df_resampled_equal.copy()\n",
    "\n",
    "df_dropped = df_dropped.drop(['date_time'], axis=1)\n",
    "df_dropped = df_dropped.drop(['user_id'], axis=1)\n",
    "df_dropped = df_dropped.drop(['srch_ci'], axis=1)\n",
    "df_dropped = df_dropped.drop(['srch_co'], axis=1)\n",
    "df_dropped = df_dropped.drop(['site_name'], axis=1)\n",
    "\n",
    "print(df_dropped.shape)\n",
    "print(df_dropped.columns)"
   ]
  },
  {
   "cell_type": "code",
   "execution_count": 89,
   "metadata": {},
   "outputs": [
    {
     "data": {
      "image/png": "[encoded data removed]",
      "text/plain": [
       "<Figure size 432x288 with 2 Axes>"
      ]
     },
     "metadata": {
      "needs_background": "light"
     },
     "output_type": "display_data"
    }
   ],
   "source": [
    "# Correlation heatmap\n",
    "import seaborn as sns\n",
    "\n",
    "corr = df_dropped.corr()\n",
    "ax = sns.heatmap(corr)"
   ]
  },
  {
   "cell_type": "code",
   "execution_count": 93,
   "metadata": {},
   "outputs": [
    {
     "name": "stdout",
     "output_type": "stream",
     "text": [
      "(100000, 20)\n"
     ]
    }
   ],
   "source": [
    "# Get dummies for categorical features\n",
    "data = pd.get_dummies(df_dropped)\n",
    "print(data.shape)"
   ]
  },
  {
   "cell_type": "code",
   "execution_count": 94,
   "metadata": {},
   "outputs": [],
   "source": [
    "# Test/train split\n",
    "X = data.drop(['hotel_cluster'], axis=1)\n",
    "Y = data['hotel_cluster']\n"
   ]
  },
  {
   "cell_type": "code",
   "execution_count": 97,
   "metadata": {},
   "outputs": [
    {
     "name": "stdout",
     "output_type": "stream",
     "text": [
      "(100000, 12)\n"
     ]
    }
   ],
   "source": [
    "# Select top K features\n",
    "from sklearn.feature_selection import SelectKBest\n",
    "from sklearn.feature_selection import chi2\n",
    "\n",
    "n = 12\n",
    "selector = SelectKBest(chi2, k=n)\n",
    "X_new = selector.fit_transform(X, Y)\n",
    "\n",
    "print(X_new.shape)\n",
    "#print(X_new.columns)"
   ]
  },
  {
   "cell_type": "code",
   "execution_count": 100,
   "metadata": {},
   "outputs": [],
   "source": [
    "# Normal data\n",
    "#X_train, X_test, y_train, y_test = train_test_split(X, Y, test_size=0.25, random_state=42)\n",
    "\n",
    "# Feature selection data\n",
    "X_train, X_test, y_train, y_test = train_test_split(X_new, Y, test_size=0.25, random_state=42)\n"
   ]
  },
  {
   "cell_type": "markdown",
   "metadata": {},
   "source": [
    "## Models"
   ]
  },
  {
   "cell_type": "code",
   "execution_count": 50,
   "metadata": {},
   "outputs": [],
   "source": [
    "from sklearn.preprocessing import LabelBinarizer\n",
    "\n",
    "def multiclass_roc_auc_score(y_test, y_pred):\n",
    "    lb = LabelBinarizer()\n",
    "    lb.fit(y_test)\n",
    "    y_test = lb.transform(y_test)\n",
    "    y_pred = lb.transform(y_pred)\n",
    "    return roc_auc_score(y_test, y_pred)"
   ]
  },
  {
   "cell_type": "code",
   "execution_count": 101,
   "metadata": {},
   "outputs": [
    {
     "name": "stderr",
     "output_type": "stream",
     "text": [
      "C:\\Users\\zande\\Anaconda3\\lib\\site-packages\\sklearn\\linear_model\\sag.py:337: ConvergenceWarning: The max_iter was reached which means the coef_ did not converge\n",
      "  \"the coef_ did not converge\", ConvergenceWarning)\n"
     ]
    },
    {
     "name": "stdout",
     "output_type": "stream",
     "text": [
      "Accuracy 0.0338\n",
      "AUC 0.5119234058815081\n"
     ]
    }
   ],
   "source": [
    "# Logistic regression\n",
    "from sklearn.linear_model import LogisticRegression\n",
    "from sklearn.metrics import roc_auc_score, accuracy_score, f1_score, roc_curve\n",
    "\n",
    "reg = LogisticRegression(multi_class='multinomial', solver='saga')\n",
    "reg.fit(X_train, y_train)\n",
    "\n",
    "y_test_pred = reg.predict(X_test)\n",
    "\n",
    "accuracy = accuracy_score(y_test, y_test_pred)\n",
    "print('Accuracy', accuracy)\n",
    "\n",
    "#auc = roc_auc_score(y_test, y_test_pred, average='macro', multi_class='ovr')\n",
    "auc = multiclass_roc_auc_score(y_test, y_test_pred)\n",
    "print('AUC', auc)"
   ]
  },
  {
   "cell_type": "code",
   "execution_count": 70,
   "metadata": {},
   "outputs": [
    {
     "name": "stdout",
     "output_type": "stream",
     "text": [
      "Accuracy 0.03384\n",
      "AUC 0.5119456330614248\n"
     ]
    }
   ],
   "source": [
    "# Xgboost\n",
    "import xgboost as xgb\n",
    "\n",
    "clf = xgb.XGBClassifier()\n",
    "clf.fit(X_train, y_train)\n",
    "\n",
    "y_test_pred = reg.predict(X_test)\n",
    "\n",
    "accuracy = accuracy_score(y_test, y_test_pred)\n",
    "print('Accuracy', accuracy)\n",
    "\n",
    "#auc = roc_auc_score(y_test, y_test_pred, multi_class='ovr')\n",
    "auc = multiclass_roc_auc_score(y_test, y_test_pred)\n",
    "print('AUC', auc)"
   ]
  },
  {
   "cell_type": "code",
   "execution_count": null,
   "metadata": {},
   "outputs": [],
   "source": [
    "# Catboost\n"
   ]
  },
  {
   "cell_type": "markdown",
   "metadata": {},
   "source": [
    "### Performances Notes\n",
    "1. Larger data size is better, 100k better than 10k\n",
    "2. No diff between logistic reg and xgboost\n",
    "\n",
    "\n",
    "Logistic, random\n",
    "Accuracy 0.04164\n",
    "AUC 0.5039382643957466\n",
    "\n",
    "Logistic, equal\n",
    "Accuracy 0.03384\n",
    "AUC 0.511945634765394\n",
    "\n",
    "Logisitc, equal, 12 features\n",
    "Accuracy 0.0338\n",
    "AUC 0.5119234058815081"
   ]
  }
 ],
 "metadata": {
  "kernelspec": {
   "display_name": "Python 3",
   "language": "python",
   "name": "python3"
  },
  "language_info": {
   "codemirror_mode": {
    "name": "ipython",
    "version": 3
   },
   "file_extension": ".py",
   "mimetype": "text/x-python",
   "name": "python",
   "nbconvert_exporter": "python",
   "pygments_lexer": "ipython3",
   "version": "3.7.4"
  }
 },
 "nbformat": 4,
 "nbformat_minor": 2
}
