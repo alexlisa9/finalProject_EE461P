{
 "cells": [
  {
   "cell_type": "markdown",
   "metadata": {},
   "source": [
    "# EE461P Term Project: Predicting Hotel Bookings on Expedia\n",
    "\n",
    "### Group Members\n",
    "1. Zander Tedjo (zbt86)\n",
    "2. Alex Li\n",
    "3. Shiv Lalapet\n",
    "4. James Lu"
   ]
  },
  {
   "cell_type": "markdown",
   "metadata": {},
   "source": [
    "## Imports"
   ]
  },
  {
   "cell_type": "code",
   "execution_count": 1,
   "metadata": {},
   "outputs": [],
   "source": [
    "import pandas as pd\n",
    "import numpy as np\n",
    "import matplotlib.pyplot as plt\n",
    "%matplotlib inline\n",
    "\n",
    "from sklearn.model_selection import train_test_split\n",
    "\n",
    "#https://www.kaggle.com/c/expedia-hotel-recommendations\n"
   ]
  },
  {
   "cell_type": "markdown",
   "metadata": {},
   "source": [
    "## Data preparation"
   ]
  },
  {
   "cell_type": "code",
   "execution_count": 2,
   "metadata": {},
   "outputs": [
    {
     "name": "stdout",
     "output_type": "stream",
     "text": [
      "             date_time  site_name  posa_continent  user_location_country  \\\n",
      "0  2014-08-11 07:46:59          2               3                     66   \n",
      "1  2014-08-11 08:22:12          2               3                     66   \n",
      "2  2014-08-11 08:24:33          2               3                     66   \n",
      "3  2014-08-09 18:05:16          2               3                     66   \n",
      "4  2014-08-09 18:08:18          2               3                     66   \n",
      "\n",
      "   user_location_region  user_location_city  orig_destination_distance  \\\n",
      "0                   348               48862                  2234.2641   \n",
      "1                   348               48862                  2234.2641   \n",
      "2                   348               48862                  2234.2641   \n",
      "3                   442               35390                   913.1932   \n",
      "4                   442               35390                   913.6259   \n",
      "\n",
      "   user_id  is_mobile  is_package  ...  srch_children_cnt srch_rm_cnt  \\\n",
      "0       12          0           1  ...                  0           1   \n",
      "1       12          0           1  ...                  0           1   \n",
      "2       12          0           0  ...                  0           1   \n",
      "3       93          0           0  ...                  0           1   \n",
      "4       93          0           0  ...                  0           1   \n",
      "\n",
      "  srch_destination_id  srch_destination_type_id  is_booking  cnt  \\\n",
      "0                8250                         1           0    3   \n",
      "1                8250                         1           1    1   \n",
      "2                8250                         1           0    1   \n",
      "3               14984                         1           0    1   \n",
      "4               14984                         1           0    1   \n",
      "\n",
      "   hotel_continent  hotel_country  hotel_market  hotel_cluster  \n",
      "0                2             50           628              1  \n",
      "1                2             50           628              1  \n",
      "2                2             50           628              1  \n",
      "3                2             50          1457             80  \n",
      "4                2             50          1457             21  \n",
      "\n",
      "[5 rows x 24 columns]\n"
     ]
    }
   ],
   "source": [
    "# Import original raw data\n",
    "df_raw = pd.read_csv('expedia.csv')\n",
    "print(df_raw.shape)\n",
    "#print(df_raw.head())\n"
   ]
  },
  {
   "cell_type": "code",
   "execution_count": 14,
   "metadata": {},
   "outputs": [
    {
     "name": "stdout",
     "output_type": "stream",
     "text": [
      "(24117894, 24)\n"
     ]
    }
   ],
   "source": [
    "# Remove rows with missing values\n",
    "df_clean = df_raw.dropna(axis=0, how='any', thresh=None, subset=None, inplace=False)\n",
    "print(df_clean.shape)"
   ]
  },
  {
   "cell_type": "code",
   "execution_count": 15,
   "metadata": {},
   "outputs": [],
   "source": [
    "#df_clean.to_csv('expedia_clean.csv', index=False)"
   ]
  },
  {
   "cell_type": "code",
   "execution_count": 53,
   "metadata": {},
   "outputs": [
    {
     "name": "stdout",
     "output_type": "stream",
     "text": [
      "(100000, 24)\n"
     ]
    }
   ],
   "source": [
    "# Resample randomly\n",
    "from sklearn.utils import resample\n",
    "\n",
    "size = 100000\n",
    "df_resampled_random = resample(df_clean, replace=False, n_samples=size, random_state=42)    \n",
    "\n",
    "print(df_resampled_random.shape)\n"
   ]
  },
  {
   "cell_type": "code",
   "execution_count": 54,
   "metadata": {},
   "outputs": [],
   "source": [
    "df_resampled_random.to_csv('expedia_resampled_random.csv', index=False)"
   ]
  },
  {
   "cell_type": "code",
   "execution_count": 56,
   "metadata": {},
   "outputs": [
    {
     "name": "stdout",
     "output_type": "stream",
     "text": [
      "(100000, 24)\n"
     ]
    }
   ],
   "source": [
    "# Resample for equal class distributions\n",
    "from sklearn.utils import resample\n",
    "\n",
    "df_resampled_equal = pd.DataFrame()\n",
    "class_size = 1000\n",
    "classes = data_clean['hotel_cluster'].unique()\n",
    "\n",
    "for c in classes:\n",
    "    class_data = df_clean[df_clean.hotel_cluster == c]\n",
    "    class_data_resampled = resample(class_data, replace=False, n_samples=class_size, random_state=42)    \n",
    "    df_resampled_equal = pd.concat([df_resampled_equal, class_data_resampled])\n",
    "\n",
    "print(df_resampled_equal.shape)"
   ]
  },
  {
   "cell_type": "code",
   "execution_count": 57,
   "metadata": {},
   "outputs": [],
   "source": [
    "df_resampled_equal.to_csv('expedia_resampled_equal.csv', index=False)"
   ]
  },
  {
   "cell_type": "markdown",
   "metadata": {},
   "source": [
    "## Data exploration"
   ]
  },
  {
   "cell_type": "code",
   "execution_count": 2,
   "metadata": {},
   "outputs": [],
   "source": [
    "# Load resampled data\n",
    "df_resampled_random = pd.read_csv('expedia_resampled_random.csv')\n",
    "df_resampled_equal = pd.read_csv('expedia_resampled_equal.csv')\n"
   ]
  },
  {
   "cell_type": "code",
   "execution_count": 3,
   "metadata": {},
   "outputs": [
    {
     "data": {
      "text/plain": [
       "Text(0.5, 0, 'Hotel cluster')"
      ]
     },
     "execution_count": 3,
     "metadata": {},
     "output_type": "execute_result"
    },
    {
     "data": {
      "image/png": "[encoded data removed]",
      "text/plain": [
       "<Figure size 432x288 with 1 Axes>"
      ]
     },
     "metadata": {
      "needs_background": "light"
     },
     "output_type": "display_data"
    }
   ],
   "source": [
    "# Plot target label distribution of random resampling\n",
    "plt.hist(df_resampled_random['hotel_cluster'], bins=25)\n",
    "plt.ylabel('Count')\n",
    "plt.xlabel('Hotel cluster')"
   ]
  },
  {
   "cell_type": "code",
   "execution_count": 4,
   "metadata": {},
   "outputs": [
    {
     "data": {
      "text/plain": [
       "Text(0.5, 0, 'Hotel cluster')"
      ]
     },
     "execution_count": 4,
     "metadata": {},
     "output_type": "execute_result"
    },
    {
     "data": {
      "image/png": "[encoded data removed]",
      "text/plain": [
       "<Figure size 432x288 with 1 Axes>"
      ]
     },
     "metadata": {
      "needs_background": "light"
     },
     "output_type": "display_data"
    }
   ],
   "source": [
    "# Plot target label distribution of equal resampling\n",
    "plt.hist(df_resampled_equal['hotel_cluster'], bins=25)\n",
    "plt.ylabel('Count')\n",
    "plt.xlabel('Hotel cluster')"
   ]
  },
  {
   "cell_type": "code",
   "execution_count": 5,
   "metadata": {},
   "outputs": [
    {
     "name": "stdout",
     "output_type": "stream",
     "text": [
      "(100000, 19)\n",
      "Index(['posa_continent', 'user_location_country', 'user_location_region',\n",
      "       'user_location_city', 'orig_destination_distance', 'is_mobile',\n",
      "       'is_package', 'channel', 'srch_adults_cnt', 'srch_children_cnt',\n",
      "       'srch_rm_cnt', 'srch_destination_id', 'srch_destination_type_id',\n",
      "       'is_booking', 'cnt', 'hotel_continent', 'hotel_country', 'hotel_market',\n",
      "       'hotel_cluster'],\n",
      "      dtype='object')\n",
      "   posa_continent  user_location_country  user_location_region  \\\n",
      "0               3                     66                   337   \n",
      "1               3                     66                   174   \n",
      "2               3                    205                   343   \n",
      "3               1                     46                   242   \n",
      "4               3                     66                   363   \n",
      "\n",
      "   user_location_city  orig_destination_distance  is_mobile  is_package  \\\n",
      "0               11682                  2214.1679          1           1   \n",
      "1                6735                   209.9806          0           0   \n",
      "2               37594                  2732.0155          0           0   \n",
      "3               39186                  5425.5910          1           1   \n",
      "4               12346                  2175.5947          1           1   \n",
      "\n",
      "   channel  srch_adults_cnt  srch_children_cnt  srch_rm_cnt  \\\n",
      "0        2                3                  0            1   \n",
      "1        9                2                  1            1   \n",
      "2        9                2                  0            1   \n",
      "3        9                1                  0            1   \n",
      "4        9                2                  0            1   \n",
      "\n",
      "   srch_destination_id  srch_destination_type_id  is_booking  cnt  \\\n",
      "0                 8250                         1           0    2   \n",
      "1                 8250                         1           0    2   \n",
      "2                 8250                         1           0    2   \n",
      "3                 8250                         1           0    1   \n",
      "4                 8250                         1           0    1   \n",
      "\n",
      "   hotel_continent  hotel_country  hotel_market  hotel_cluster  \n",
      "0                2             50           628              1  \n",
      "1                2             50           628              1  \n",
      "2                2             50           628              1  \n",
      "3                2             50           628              1  \n",
      "4                2             50           628              1  \n"
     ]
    }
   ],
   "source": [
    "# Drop unnecessary features\n",
    "\n",
    "#df_dropped = df_resampled_random.copy()\n",
    "df_dropped = df_resampled_equal.copy()\n",
    "\n",
    "df_dropped = df_dropped.drop(['date_time'], axis=1)\n",
    "df_dropped = df_dropped.drop(['user_id'], axis=1)\n",
    "df_dropped = df_dropped.drop(['srch_ci'], axis=1)\n",
    "df_dropped = df_dropped.drop(['srch_co'], axis=1)\n",
    "df_dropped = df_dropped.drop(['site_name'], axis=1)\n",
    "\n",
    "print(df_dropped.shape)\n",
    "print(df_dropped.columns)\n",
    "print(df_dropped.head())"
   ]
  },
  {
   "cell_type": "code",
   "execution_count": 6,
   "metadata": {},
   "outputs": [
    {
     "data": {
      "image/png": "[encoded data removed]",
      "text/plain": [
       "<Figure size 432x288 with 2 Axes>"
      ]
     },
     "metadata": {
      "needs_background": "light"
     },
     "output_type": "display_data"
    }
   ],
   "source": [
    "# Correlation heatmap\n",
    "import seaborn as sns\n",
    "\n",
    "corr = df_dropped.corr()\n",
    "ax = sns.heatmap(corr)"
   ]
  },
  {
   "cell_type": "code",
   "execution_count": 7,
   "metadata": {},
   "outputs": [
    {
     "data": {
      "text/plain": [
       "Text(0.5, 0, 'user_location_country')"
      ]
     },
     "execution_count": 7,
     "metadata": {},
     "output_type": "execute_result"
    },
    {
     "data": {
      "image/png": "[encoded data removed]",
      "text/plain": [
       "<Figure size 432x288 with 1 Axes>"
      ]
     },
     "metadata": {
      "needs_background": "light"
     },
     "output_type": "display_data"
    }
   ],
   "source": [
    "# Plot distribution of a feature\n",
    "feature = 'srch_rm_cnt'\n",
    "feature = 'posa_continent'\n",
    "feature = 'user_location_country'\n",
    "\n",
    "\n",
    "plt.hist(df_dropped[feature], bins=25)\n",
    "plt.ylabel('Count')\n",
    "plt.xlabel(feature)"
   ]
  },
  {
   "cell_type": "markdown",
   "metadata": {},
   "source": [
    "## Preprocessing"
   ]
  },
  {
   "cell_type": "code",
   "execution_count": 8,
   "metadata": {},
   "outputs": [
    {
     "name": "stdout",
     "output_type": "stream",
     "text": [
      "(100000, 19)\n"
     ]
    }
   ],
   "source": [
    "# Get dummies for categorical features\n",
    "data = pd.get_dummies(df_dropped)\n",
    "print(data.shape)"
   ]
  },
  {
   "cell_type": "code",
   "execution_count": 9,
   "metadata": {},
   "outputs": [],
   "source": [
    "X = data.drop(['hotel_cluster'], axis=1)\n",
    "Y = data['hotel_cluster']"
   ]
  },
  {
   "cell_type": "code",
   "execution_count": 10,
   "metadata": {},
   "outputs": [
    {
     "name": "stdout",
     "output_type": "stream",
     "text": [
      "(100000, 8)\n",
      "Index(['user_location_country', 'user_location_region', 'user_location_city',\n",
      "       'orig_destination_distance', 'srch_destination_id', 'hotel_continent',\n",
      "       'hotel_country', 'hotel_market'],\n",
      "      dtype='object')\n"
     ]
    }
   ],
   "source": [
    "# Select top K features\n",
    "from sklearn.feature_selection import SelectKBest\n",
    "from sklearn.feature_selection import chi2\n",
    "\n",
    "n = 8\n",
    "selector = SelectKBest(chi2, k=n)\n",
    "X_new = selector.fit_transform(X, Y)\n",
    "\n",
    "print(X_new.shape)\n",
    "#print(X_new.columns)\n",
    "\n",
    "mask = selector.get_support()\n",
    "new_features = X.columns[mask]\n",
    "print(new_features)"
   ]
  },
  {
   "cell_type": "code",
   "execution_count": 11,
   "metadata": {},
   "outputs": [
    {
     "name": "stdout",
     "output_type": "stream",
     "text": [
      "(75000, 18)\n"
     ]
    }
   ],
   "source": [
    "from sklearn.model_selection import train_test_split\n",
    "\n",
    "# Normal data\n",
    "X_train, X_test, y_train, y_test = train_test_split(X, Y, test_size=0.25, random_state=42)\n",
    "\n",
    "# Feature selection data\n",
    "#X_train, X_test, y_train, y_test = train_test_split(X_new, Y, test_size=0.25, random_state=42)\n",
    "\n",
    "print(X_train.shape)"
   ]
  },
  {
   "cell_type": "markdown",
   "metadata": {},
   "source": [
    "## K-Means Clustering"
   ]
  },
  {
   "cell_type": "code",
   "execution_count": 13,
   "metadata": {},
   "outputs": [],
   "source": [
    "from sklearn.preprocessing import LabelBinarizer\n",
    "from sklearn.metrics import roc_auc_score, accuracy_score, f1_score, roc_curve, log_loss, average_precision_score\n",
    "\n",
    "def multiclass_roc_auc_score(y_test, y_pred):\n",
    "    lb = LabelBinarizer()\n",
    "    lb.fit(y_test)\n",
    "    y_test = lb.transform(y_test)\n",
    "    y_pred = lb.transform(y_pred)\n",
    "    return roc_auc_score(y_test, y_pred)\n",
    "\n",
    "def evaluate(y_test, y_test_pred, y_test_pred_proba):\n",
    "    accuracy = accuracy_score(y_test, y_test_pred)\n",
    "    print('Accuracy', accuracy)\n",
    "\n",
    "    #auc = roc_auc_score(y_test, y_test_pred, multi_class='ovr')\n",
    "    auc = multiclass_roc_auc_score(y_test, y_test_pred)\n",
    "    \n",
    "    #binary auc\n",
    "    #auc = roc_auc_score(y_test, y_test_pred_proba[:,1])\n",
    "\n",
    "    print('AUC', auc)\n",
    "\n",
    "    cross_entropy = log_loss(y_test, y_test_pred_proba)\n",
    "    print('Cross entropy', cross_entropy)"
   ]
  },
  {
   "cell_type": "code",
   "execution_count": 32,
   "metadata": {},
   "outputs": [
    {
     "data": {
      "image/png": "[encoded data removed]",
      "text/plain": [
       "<Figure size 432x288 with 1 Axes>"
      ]
     },
     "metadata": {
      "needs_background": "light"
     },
     "output_type": "display_data"
    }
   ],
   "source": [
    "import numpy as np\n",
    "import pandas as pd\n",
    "from matplotlib import pyplot as plt\n",
    "from sklearn.cluster import KMeans\n",
    "\n",
    "#Use Elbow method to determine number of clusters\n",
    "wcss = []\n",
    "for i in range(1, 25):\n",
    "    kmeans = KMeans(n_clusters=i)\n",
    "    kmeans.fit(X_train)\n",
    "    wcss.append(kmeans.inertia_)\n",
    "plt.plot(range(1, 25), wcss)\n",
    "plt.title('Elbow Method')\n",
    "plt.xlabel('Number of clusters')\n",
    "plt.ylabel('WCSS')\n",
    "plt.show()"
   ]
  },
  {
   "cell_type": "code",
   "execution_count": 20,
   "metadata": {},
   "outputs": [
    {
     "name": "stdout",
     "output_type": "stream",
     "text": [
      "Accuracy 0.0104\n",
      "AUC 0.5002837876831098\n"
     ]
    }
   ],
   "source": [
    "from sklearn.cluster import KMeans\n",
    "\n",
    "# Number of clusters\n",
    "kmeans = KMeans(n_clusters=10, max_iter = 1000).fit(X_train)\n",
    "\n",
    "y_test_pred = kmeans.predict(X_test)\n",
    "\n",
    "# Centroid values\n",
    "centroids = kmeans.cluster_centers_\n",
    "\n",
    "accuracy = accuracy_score(y_test, y_test_pred)\n",
    "print('Accuracy', accuracy)\n",
    "\n",
    "auc = multiclass_roc_auc_score(y_test, y_test_pred)\n",
    "print('AUC', auc)\n",
    "\n",
    "#print(centroids)"
   ]
  },
  {
   "cell_type": "code",
   "execution_count": 34,
   "metadata": {},
   "outputs": [
    {
     "name": "stderr",
     "output_type": "stream",
     "text": [
      "C:\\Users\\Alex Li\\Anaconda3\\lib\\site-packages\\mpl_toolkits\\mplot3d\\art3d.py:733: FutureWarning: elementwise comparison failed; returning scalar instead, but in the future will perform elementwise comparison\n",
      "  if zdir == 'x':\n",
      "C:\\Users\\Alex Li\\Anaconda3\\lib\\site-packages\\mpl_toolkits\\mplot3d\\art3d.py:735: FutureWarning: elementwise comparison failed; returning scalar instead, but in the future will perform elementwise comparison\n",
      "  elif zdir == 'y':\n"
     ]
    },
    {
     "data": {
      "text/plain": [
       "<mpl_toolkits.mplot3d.art3d.Path3DCollection at 0x26db1486668>"
      ]
     },
     "execution_count": 34,
     "metadata": {},
     "output_type": "execute_result"
    },
    {
     "data": {
      "image/png": "[encoded data removed]",
      "text/plain": [
       "<Figure size 432x288 with 1 Axes>"
      ]
     },
     "metadata": {
      "needs_background": "light"
     },
     "output_type": "display_data"
    }
   ],
   "source": [
    "from mpl_toolkits.mplot3d import Axes3D\n",
    "\n",
    "fig = plt.figure()\n",
    "ax = Axes3D(fig)\n",
    "ax.scatter(X_train.values[:, 0], X_train.values[:, 1], X_train.values[:, 2], X_train.values[:,3])\n",
    "ax.scatter(centroids[:, 0], centroids[:, 1], centroids[:, 2], centroids[:, 3], marker='*', c='#050505', s=1000)"
   ]
  },
  {
   "cell_type": "markdown",
   "metadata": {},
   "source": [
    "## PCA"
   ]
  },
  {
   "cell_type": "code",
   "execution_count": 12,
   "metadata": {},
   "outputs": [],
   "source": [
    "#PCA breakdown into 100, 30, and 10 components\n",
    "from sklearn.ensemble import RandomForestClassifier\n",
    "from sklearn.datasets import make_classification\n",
    "from sklearn.decomposition import PCA\n",
    "from sklearn.metrics import classification_report\n",
    "\n",
    "pca18 = PCA(n_components = 18)\n",
    "pca10 = PCA(n_components = 10)\n",
    "pca5 = PCA(n_components = 5)\n",
    "\n",
    "X_18pca = pca18.fit_transform(X)\n",
    "X_10pca = pca10.fit_transform(X)\n",
    "X_5pca = pca5.fit_transform(X)"
   ]
  },
  {
   "cell_type": "code",
   "execution_count": 14,
   "metadata": {},
   "outputs": [
    {
     "name": "stdout",
     "output_type": "stream",
     "text": [
      "Classification report for 18 PCA\n",
      "              precision    recall  f1-score   support\n",
      "\n",
      "           0       0.05      0.18      0.08       243\n",
      "           1       0.13      0.32      0.19       248\n",
      "           2       0.03      0.13      0.05       235\n",
      "           3       0.02      0.06      0.03       263\n",
      "           4       0.03      0.11      0.05       241\n",
      "           5       0.01      0.03      0.02       252\n",
      "           6       0.03      0.10      0.04       251\n",
      "           7       0.04      0.12      0.06       255\n",
      "           8       0.09      0.21      0.13       257\n",
      "           9       0.02      0.04      0.02       244\n",
      "          10       0.01      0.02      0.01       265\n",
      "          11       0.03      0.06      0.04       262\n",
      "          12       0.05      0.11      0.07       263\n",
      "          13       0.02      0.05      0.03       258\n",
      "          14       0.01      0.02      0.02       267\n",
      "          15       0.02      0.04      0.03       240\n",
      "          16       0.02      0.03      0.02       248\n",
      "          17       0.02      0.03      0.02       266\n",
      "          18       0.03      0.05      0.03       227\n",
      "          19       0.03      0.04      0.04       248\n",
      "          20       0.02      0.05      0.03       240\n",
      "          21       0.01      0.02      0.02       273\n",
      "          22       0.06      0.09      0.07       261\n",
      "          23       0.02      0.03      0.03       237\n",
      "          24       0.15      0.18      0.16       240\n",
      "          25       0.02      0.03      0.02       227\n",
      "          26       0.09      0.14      0.11       242\n",
      "          27       0.48      0.56      0.51       245\n",
      "          28       0.02      0.02      0.02       278\n",
      "          29       0.06      0.07      0.06       254\n",
      "          30       0.03      0.04      0.04       244\n",
      "          31       0.08      0.09      0.08       253\n",
      "          32       0.04      0.04      0.04       250\n",
      "          33       0.03      0.02      0.03       245\n",
      "          34       0.04      0.04      0.04       242\n",
      "          35       0.05      0.04      0.05       253\n",
      "          36       0.04      0.03      0.04       263\n",
      "          37       0.03      0.02      0.02       264\n",
      "          38       0.04      0.02      0.03       262\n",
      "          39       0.02      0.01      0.01       246\n",
      "          40       0.03      0.02      0.02       256\n",
      "          41       0.04      0.02      0.03       260\n",
      "          42       0.01      0.01      0.01       260\n",
      "          43       0.05      0.03      0.04       246\n",
      "          44       0.03      0.02      0.02       253\n",
      "          45       0.16      0.12      0.14       243\n",
      "          46       0.08      0.06      0.07       237\n",
      "          47       0.03      0.02      0.02       250\n",
      "          48       0.01      0.00      0.01       262\n",
      "          49       0.03      0.02      0.03       227\n",
      "          50       0.04      0.02      0.02       236\n",
      "          51       0.02      0.01      0.01       243\n",
      "          52       0.14      0.14      0.14       251\n",
      "          53       0.03      0.02      0.02       250\n",
      "          54       0.12      0.07      0.09       227\n",
      "          55       0.03      0.01      0.02       235\n",
      "          56       0.12      0.08      0.09       253\n",
      "          57       0.05      0.03      0.03       236\n",
      "          58       0.02      0.01      0.02       239\n",
      "          59       0.04      0.02      0.02       243\n",
      "          60       0.07      0.03      0.04       240\n",
      "          61       0.01      0.00      0.01       249\n",
      "          62       0.04      0.02      0.02       256\n",
      "          63       0.12      0.07      0.08       261\n",
      "          64       0.07      0.04      0.05       249\n",
      "          65       0.16      0.12      0.14       255\n",
      "          66       0.23      0.19      0.21       279\n",
      "          67       0.10      0.04      0.06       258\n",
      "          68       0.03      0.01      0.02       250\n",
      "          69       0.07      0.03      0.04       238\n",
      "          70       0.03      0.01      0.02       229\n",
      "          71       0.10      0.05      0.07       244\n",
      "          72       0.04      0.01      0.01       243\n",
      "          73       0.02      0.01      0.01       242\n",
      "          74       0.76      0.71      0.73       237\n",
      "          75       0.16      0.05      0.08       241\n",
      "          76       0.02      0.00      0.01       259\n",
      "          77       0.05      0.01      0.02       270\n",
      "          78       0.05      0.02      0.02       235\n",
      "          79       0.07      0.03      0.04       252\n",
      "          80       0.34      0.28      0.31       237\n",
      "          81       0.05      0.02      0.03       248\n",
      "          82       0.06      0.03      0.04       234\n",
      "          83       0.03      0.01      0.01       249\n",
      "          84       0.06      0.02      0.03       252\n",
      "          85       0.01      0.00      0.01       243\n",
      "          86       0.10      0.02      0.04       275\n",
      "          87       0.19      0.13      0.15       258\n",
      "          88       0.16      0.11      0.13       226\n",
      "          89       0.02      0.00      0.01       257\n",
      "          90       0.02      0.00      0.01       265\n",
      "          91       0.00      0.00      0.00       238\n",
      "          92       0.26      0.14      0.18       243\n",
      "          93       0.00      0.00      0.00       292\n",
      "          94       0.05      0.02      0.03       240\n",
      "          95       0.08      0.02      0.03       263\n",
      "          96       0.07      0.02      0.03       262\n",
      "          97       0.05      0.01      0.02       261\n",
      "          98       0.08      0.02      0.03       273\n",
      "          99       0.00      0.00      0.00       238\n",
      "\n",
      "   micro avg       0.06      0.06      0.06     25000\n",
      "   macro avg       0.07      0.06      0.06     25000\n",
      "weighted avg       0.07      0.06      0.06     25000\n",
      "\n"
     ]
    }
   ],
   "source": [
    "#Running for 18 PCA\n",
    "x_train_18 = pca18.fit_transform(X_train)\n",
    "x_test_18 = pca18.fit_transform(X_test)\n",
    "\n",
    "rand_forest18pca = RandomForestClassifier(n_estimators = 5, random_state = 42)\n",
    "rand_forest18pca.fit(x_train_18,y_train)\n",
    "\n",
    "y_pred_18 = rand_forest18pca.predict(x_test_18)\n",
    "print(\"Classification report for 18 PCA\")\n",
    "report = classification_report(y_test, y_pred_18)\n",
    "print(report)"
   ]
  },
  {
   "cell_type": "code",
   "execution_count": 15,
   "metadata": {},
   "outputs": [
    {
     "name": "stdout",
     "output_type": "stream",
     "text": [
      "Classification report for 10 PCA\n",
      "              precision    recall  f1-score   support\n",
      "\n",
      "           0       0.05      0.16      0.08       243\n",
      "           1       0.13      0.29      0.18       248\n",
      "           2       0.03      0.13      0.05       235\n",
      "           3       0.03      0.08      0.04       263\n",
      "           4       0.03      0.09      0.05       241\n",
      "           5       0.03      0.08      0.04       252\n",
      "           6       0.03      0.08      0.04       251\n",
      "           7       0.03      0.09      0.05       255\n",
      "           8       0.09      0.18      0.12       257\n",
      "           9       0.02      0.05      0.03       244\n",
      "          10       0.02      0.04      0.03       265\n",
      "          11       0.05      0.10      0.07       262\n",
      "          12       0.04      0.08      0.06       263\n",
      "          13       0.04      0.09      0.05       258\n",
      "          14       0.02      0.04      0.03       267\n",
      "          15       0.02      0.05      0.03       240\n",
      "          16       0.02      0.04      0.03       248\n",
      "          17       0.03      0.04      0.03       266\n",
      "          18       0.02      0.04      0.03       227\n",
      "          19       0.02      0.03      0.03       248\n",
      "          20       0.03      0.06      0.04       240\n",
      "          21       0.02      0.02      0.02       273\n",
      "          22       0.07      0.09      0.08       261\n",
      "          23       0.02      0.03      0.03       237\n",
      "          24       0.11      0.10      0.11       240\n",
      "          25       0.03      0.05      0.04       227\n",
      "          26       0.11      0.14      0.12       242\n",
      "          27       0.57      0.71      0.63       245\n",
      "          28       0.03      0.02      0.02       278\n",
      "          29       0.05      0.06      0.06       254\n",
      "          30       0.02      0.02      0.02       244\n",
      "          31       0.11      0.13      0.12       253\n",
      "          32       0.04      0.04      0.04       250\n",
      "          33       0.02      0.02      0.02       245\n",
      "          34       0.03      0.03      0.03       242\n",
      "          35       0.07      0.06      0.07       253\n",
      "          36       0.08      0.08      0.08       263\n",
      "          37       0.03      0.02      0.02       264\n",
      "          38       0.05      0.04      0.04       262\n",
      "          39       0.03      0.02      0.03       246\n",
      "          40       0.04      0.02      0.03       256\n",
      "          41       0.04      0.03      0.03       260\n",
      "          42       0.02      0.01      0.01       260\n",
      "          43       0.03      0.02      0.02       246\n",
      "          44       0.03      0.03      0.03       253\n",
      "          45       0.14      0.14      0.14       243\n",
      "          46       0.10      0.08      0.09       237\n",
      "          47       0.04      0.02      0.03       250\n",
      "          48       0.04      0.02      0.02       262\n",
      "          49       0.02      0.02      0.02       227\n",
      "          50       0.02      0.01      0.02       236\n",
      "          51       0.02      0.01      0.01       243\n",
      "          52       0.19      0.21      0.20       251\n",
      "          53       0.05      0.03      0.04       250\n",
      "          54       0.14      0.08      0.10       227\n",
      "          55       0.03      0.02      0.02       235\n",
      "          56       0.14      0.12      0.13       253\n",
      "          57       0.03      0.02      0.02       236\n",
      "          58       0.06      0.03      0.04       239\n",
      "          59       0.06      0.02      0.03       243\n",
      "          60       0.10      0.04      0.06       240\n",
      "          61       0.08      0.04      0.05       249\n",
      "          62       0.07      0.03      0.04       256\n",
      "          63       0.11      0.06      0.08       261\n",
      "          64       0.06      0.04      0.05       249\n",
      "          65       0.14      0.14      0.14       255\n",
      "          66       0.20      0.15      0.17       279\n",
      "          67       0.15      0.08      0.10       258\n",
      "          68       0.07      0.04      0.05       250\n",
      "          69       0.05      0.02      0.03       238\n",
      "          70       0.06      0.03      0.04       229\n",
      "          71       0.07      0.04      0.05       244\n",
      "          72       0.05      0.02      0.02       243\n",
      "          73       0.03      0.01      0.02       242\n",
      "          74       0.82      0.79      0.80       237\n",
      "          75       0.11      0.05      0.07       241\n",
      "          76       0.01      0.00      0.01       259\n",
      "          77       0.04      0.01      0.02       270\n",
      "          78       0.06      0.03      0.04       235\n",
      "          79       0.11      0.06      0.07       252\n",
      "          80       0.35      0.31      0.33       237\n",
      "          81       0.10      0.05      0.07       248\n",
      "          82       0.08      0.04      0.05       234\n",
      "          83       0.02      0.01      0.01       249\n",
      "          84       0.08      0.03      0.05       252\n",
      "          85       0.03      0.01      0.02       243\n",
      "          86       0.09      0.03      0.05       275\n",
      "          87       0.16      0.11      0.13       258\n",
      "          88       0.13      0.05      0.07       226\n",
      "          89       0.02      0.01      0.01       257\n",
      "          90       0.04      0.01      0.02       265\n",
      "          91       0.03      0.01      0.01       238\n",
      "          92       0.28      0.14      0.19       243\n",
      "          93       0.03      0.01      0.01       292\n",
      "          94       0.06      0.02      0.03       240\n",
      "          95       0.01      0.00      0.01       263\n",
      "          96       0.08      0.03      0.05       262\n",
      "          97       0.02      0.01      0.01       261\n",
      "          98       0.05      0.02      0.03       273\n",
      "          99       0.05      0.02      0.02       238\n",
      "\n",
      "   micro avg       0.07      0.07      0.07     25000\n",
      "   macro avg       0.08      0.07      0.07     25000\n",
      "weighted avg       0.08      0.07      0.07     25000\n",
      "\n"
     ]
    }
   ],
   "source": [
    "#Running for 10 PCA\n",
    "x_train_10 = pca10.fit_transform(X_train)\n",
    "x_test_10 = pca10.fit_transform(X_test)\n",
    "\n",
    "rand_forest10pca = RandomForestClassifier(n_estimators = 5, random_state = 42)\n",
    "rand_forest10pca.fit(x_train_10,y_train)\n",
    "\n",
    "y_pred_10 = rand_forest10pca.predict(x_test_10)\n",
    "print(\"Classification report for 10 PCA\")\n",
    "report = classification_report(y_test, y_pred_10)\n",
    "print(report)\n"
   ]
  },
  {
   "cell_type": "code",
   "execution_count": 16,
   "metadata": {},
   "outputs": [
    {
     "name": "stdout",
     "output_type": "stream",
     "text": [
      "Classification report for 5 PCA\n",
      "              precision    recall  f1-score   support\n",
      "\n",
      "           0       0.05      0.17      0.08       243\n",
      "           1       0.13      0.29      0.18       248\n",
      "           2       0.03      0.12      0.05       235\n",
      "           3       0.02      0.07      0.03       263\n",
      "           4       0.04      0.11      0.05       241\n",
      "           5       0.01      0.04      0.02       252\n",
      "           6       0.03      0.08      0.04       251\n",
      "           7       0.04      0.12      0.06       255\n",
      "           8       0.07      0.16      0.10       257\n",
      "           9       0.04      0.11      0.06       244\n",
      "          10       0.02      0.04      0.02       265\n",
      "          11       0.03      0.06      0.04       262\n",
      "          12       0.05      0.09      0.06       263\n",
      "          13       0.03      0.07      0.04       258\n",
      "          14       0.03      0.04      0.03       267\n",
      "          15       0.02      0.03      0.02       240\n",
      "          16       0.04      0.06      0.05       248\n",
      "          17       0.02      0.02      0.02       266\n",
      "          18       0.04      0.07      0.05       227\n",
      "          19       0.03      0.05      0.04       248\n",
      "          20       0.01      0.01      0.01       240\n",
      "          21       0.01      0.01      0.01       273\n",
      "          22       0.04      0.05      0.04       261\n",
      "          23       0.03      0.04      0.03       237\n",
      "          24       0.21      0.20      0.20       240\n",
      "          25       0.03      0.04      0.04       227\n",
      "          26       0.08      0.10      0.09       242\n",
      "          27       0.50      0.49      0.50       245\n",
      "          28       0.01      0.01      0.01       278\n",
      "          29       0.04      0.05      0.04       254\n",
      "          30       0.02      0.02      0.02       244\n",
      "          31       0.08      0.13      0.10       253\n",
      "          32       0.05      0.05      0.05       250\n",
      "          33       0.03      0.02      0.02       245\n",
      "          34       0.04      0.04      0.04       242\n",
      "          35       0.05      0.04      0.04       253\n",
      "          36       0.05      0.05      0.05       263\n",
      "          37       0.02      0.01      0.01       264\n",
      "          38       0.04      0.03      0.04       262\n",
      "          39       0.06      0.04      0.05       246\n",
      "          40       0.02      0.01      0.01       256\n",
      "          41       0.05      0.02      0.03       260\n",
      "          42       0.03      0.02      0.02       260\n",
      "          43       0.04      0.03      0.03       246\n",
      "          44       0.05      0.04      0.05       253\n",
      "          45       0.19      0.14      0.16       243\n",
      "          46       0.07      0.05      0.06       237\n",
      "          47       0.01      0.00      0.01       250\n",
      "          48       0.03      0.02      0.02       262\n",
      "          49       0.05      0.05      0.05       227\n",
      "          50       0.01      0.01      0.01       236\n",
      "          51       0.01      0.00      0.01       243\n",
      "          52       0.16      0.17      0.16       251\n",
      "          53       0.04      0.02      0.03       250\n",
      "          54       0.15      0.10      0.12       227\n",
      "          55       0.02      0.01      0.02       235\n",
      "          56       0.14      0.09      0.11       253\n",
      "          57       0.04      0.03      0.03       236\n",
      "          58       0.06      0.03      0.04       239\n",
      "          59       0.04      0.02      0.03       243\n",
      "          60       0.03      0.02      0.02       240\n",
      "          61       0.02      0.02      0.02       249\n",
      "          62       0.04      0.02      0.03       256\n",
      "          63       0.17      0.10      0.12       261\n",
      "          64       0.06      0.03      0.04       249\n",
      "          65       0.13      0.12      0.12       255\n",
      "          66       0.21      0.13      0.16       279\n",
      "          67       0.12      0.05      0.07       258\n",
      "          68       0.02      0.01      0.01       250\n",
      "          69       0.06      0.03      0.04       238\n",
      "          70       0.07      0.03      0.04       229\n",
      "          71       0.09      0.06      0.07       244\n",
      "          72       0.06      0.03      0.04       243\n",
      "          73       0.03      0.01      0.02       242\n",
      "          74       0.71      0.79      0.75       237\n",
      "          75       0.10      0.06      0.08       241\n",
      "          76       0.06      0.02      0.03       259\n",
      "          77       0.05      0.02      0.03       270\n",
      "          78       0.03      0.01      0.02       235\n",
      "          79       0.10      0.03      0.05       252\n",
      "          80       0.33      0.27      0.29       237\n",
      "          81       0.06      0.03      0.04       248\n",
      "          82       0.03      0.02      0.02       234\n",
      "          83       0.01      0.00      0.01       249\n",
      "          84       0.06      0.03      0.04       252\n",
      "          85       0.04      0.02      0.03       243\n",
      "          86       0.05      0.02      0.03       275\n",
      "          87       0.18      0.11      0.14       258\n",
      "          88       0.16      0.12      0.14       226\n",
      "          89       0.07      0.02      0.04       257\n",
      "          90       0.04      0.01      0.02       265\n",
      "          91       0.05      0.02      0.03       238\n",
      "          92       0.26      0.10      0.15       243\n",
      "          93       0.05      0.01      0.02       292\n",
      "          94       0.06      0.02      0.03       240\n",
      "          95       0.06      0.02      0.03       263\n",
      "          96       0.07      0.03      0.04       262\n",
      "          97       0.04      0.01      0.01       261\n",
      "          98       0.03      0.01      0.02       273\n",
      "          99       0.00      0.00      0.00       238\n",
      "\n",
      "   micro avg       0.06      0.06      0.06     25000\n",
      "   macro avg       0.07      0.07      0.06     25000\n",
      "weighted avg       0.07      0.06      0.06     25000\n",
      "\n"
     ]
    }
   ],
   "source": [
    "#Running for 5 PCA\n",
    "x_train_5 = pca5.fit_transform(X_train)\n",
    "x_test_5 = pca5.fit_transform(X_test)\n",
    "\n",
    "rand_forest5pca = RandomForestClassifier(n_estimators = 5, random_state = 42)\n",
    "rand_forest5pca.fit(x_train_5,y_train)\n",
    "\n",
    "y_pred_5 = rand_forest5pca.predict(x_test_5)\n",
    "print(\"Classification report for 5 PCA\")\n",
    "report = classification_report(y_test, y_pred_5)\n",
    "print(report)\n"
   ]
  },
  {
   "cell_type": "code",
   "execution_count": null,
   "metadata": {},
   "outputs": [],
   "source": []
  }
 ],
 "metadata": {
  "kernelspec": {
   "display_name": "Python 3",
   "language": "python",
   "name": "python3"
  },
  "language_info": {
   "codemirror_mode": {
    "name": "ipython",
    "version": 3
   },
   "file_extension": ".py",
   "mimetype": "text/x-python",
   "name": "python",
   "nbconvert_exporter": "python",
   "pygments_lexer": "ipython3",
   "version": "3.7.1"
  }
 },
 "nbformat": 4,
 "nbformat_minor": 2
}
